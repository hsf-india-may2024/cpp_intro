{
 "cells": [
  {
   "cell_type": "markdown",
   "id": "3b2209d7-ecbd-4b4d-ae91-638e0cce3a76",
   "metadata": {},
   "source": [
    "Go back to your solution to exercise 1 (or use the original code)\n",
    "\n",
    "Instead of using the jupyter notebook, copy the code into separate files for each function and use the compiler to compile, link and run. \n"
   ]
  }
 ],
 "metadata": {
  "kernelspec": {
   "display_name": "Python 3 (ipykernel)",
   "language": "python",
   "name": "python3"
  },
  "language_info": {
   "codemirror_mode": {
    "name": "ipython",
    "version": 3
   },
   "file_extension": ".py",
   "mimetype": "text/x-python",
   "name": "python",
   "nbconvert_exporter": "python",
   "pygments_lexer": "ipython3",
   "version": "3.10.13"
  }
 },
 "nbformat": 4,
 "nbformat_minor": 5
}
