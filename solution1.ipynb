{
 "cells": [
  {
   "cell_type": "code",
   "execution_count": 6,
   "id": "28110ccd-db7e-45b5-974b-c67c5e25c511",
   "metadata": {
    "tags": []
   },
   "outputs": [],
   "source": [
    "#include <iostream>\n",
    "#include <algorithm>\n",
    "#include <vector>\n",
    "#include <numeric>\n",
    "#include <random>\n",
    "\n",
    "template<typename T>\n",
    "struct Generator {\n",
    "    T m_value, m_step;\n",
    "    Generator(T initial, T step):m_value(initial), m_step(step){};\n",
    "    T operator()() {\n",
    "        T cur_value = m_value;\n",
    "        m_value += m_step;\n",
    "        return cur_value;\n",
    "    }\n",
    "};"
   ]
  },
  {
   "cell_type": "code",
   "execution_count": 7,
   "id": "753c0e61-0f9c-438e-91ce-02078ce2bfff",
   "metadata": {
    "tags": []
   },
   "outputs": [],
   "source": [
    "template<typename T>\n",
    "struct sumsquare {\n",
    "    T operator()(const T& s, const T& a) { return s + a * a; };\n",
    "};\n",
    "\n",
    "template<typename T>\n",
    "void runit(int len, T initial, T step) {\n",
    "    // allocate vectors\n",
    "    std::vector<T> v(len+1), diffs(len+1);\n",
    "\n",
    "    // fill and randomize v\n",
    "    std::generate(v.begin(), v.end(), Generator<T>(initial, step));\n",
    "\n",
    "    std::shuffle(v.begin(), v.end(), std::default_random_engine{});\n",
    "\n",
    "    // compute differences\n",
    "    std::adjacent_difference(v.begin(), v.end(), diffs.begin());\n",
    "\n",
    "    // compute standard deviation of all differences.\n",
    "    // Note that the first element is just the original element itself, so we need to skip it.\n",
    "    const T sum = std::reduce(diffs.begin()+1, diffs.end());\n",
    "    const T sumsq = std::accumulate(diffs.begin()+1, diffs.end(), T(), sumsquare<T>());\n",
    "\n",
    "    const T mean = sum/len;\n",
    "    const T variance = sumsq/len - mean*mean;\n",
    "\n",
    "    std::cout << \"Range = [\" << initial << \", \" << step*len << \"]\\n\"\n",
    "              << \"Mean = \" << mean << '\\n'\n",
    "              << \"Variance = \" << variance << '\\n';\n",
    "}"
   ]
  },
  {
   "cell_type": "code",
   "execution_count": 9,
   "id": "659a0ac1-0182-4011-89cc-ee12141b7b5a",
   "metadata": {
    "tags": []
   },
   "outputs": [
    {
     "name": "stdout",
     "output_type": "stream",
     "text": [
      "Range = [0, 7000]\n",
      "Mean = -2.842\n",
      "Variance = 8.14302e+06\n"
     ]
    }
   ],
   "source": [
    "runit(1000, 0.0, 7.0);\n",
    "\n"
   ]
  },
  {
   "cell_type": "code",
   "execution_count": null,
   "id": "fe9aeef7-ed67-4363-9c98-7157c0335480",
   "metadata": {},
   "outputs": [],
   "source": []
  }
 ],
 "metadata": {
  "kernelspec": {
   "display_name": "ROOT C++",
   "language": "c++",
   "name": "root"
  },
  "language_info": {
   "codemirror_mode": "text/x-c++src",
   "file_extension": ".C",
   "mimetype": " text/x-c++src",
   "name": "c++"
  }
 },
 "nbformat": 4,
 "nbformat_minor": 5
}
