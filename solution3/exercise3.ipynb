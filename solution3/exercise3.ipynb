{
 "cells": [
  {
   "cell_type": "markdown",
   "id": "3b2209d7-ecbd-4b4d-ae91-638e0cce3a76",
   "metadata": {},
   "source": [
    "Go back to your solution to exercise 1 (or use the original code)\n",
    "\n",
    "Instead of using the jupyter notebook, copy the code into separate files for each function and use the compiler to compile, link and run. \n"
   ]
  },
  {
   "cell_type": "code",
   "execution_count": 4,
   "id": "29a52687-c399-4e5e-b1e6-c208b96f6db5",
   "metadata": {
    "tags": []
   },
   "outputs": [
    {
     "name": "stdout",
     "output_type": "stream",
     "text": [
      "gen.h\n",
      "main.cc\n",
      "runit.h\n",
      "sumsq.h\n"
     ]
    }
   ],
   "source": [
    "%%sh\n",
    "\n",
    "cd /notebook/notebook/cpp_intro/solution3\n",
    "ls"
   ]
  },
  {
   "cell_type": "code",
   "execution_count": 9,
   "id": "93daefb7-41f4-4bd8-9dbd-3c04ef1af7a5",
   "metadata": {
    "tags": []
   },
   "outputs": [],
   "source": [
    "%%sh\n",
    "cd /notebook/notebook/cpp_intro/solution3\n",
    "g++ -I. -Wall -std=c++17 main.cc -o answer3"
   ]
  },
  {
   "cell_type": "code",
   "execution_count": 10,
   "id": "683356bc-fa01-4d50-aa9f-71a5bfedee74",
   "metadata": {
    "tags": []
   },
   "outputs": [
    {
     "name": "stdout",
     "output_type": "stream",
     "text": [
      "Range = [0, 7000]\n",
      "Mean = -2.842\n",
      "Variance = 8.14302e+06\n"
     ]
    }
   ],
   "source": [
    "%%sh\n",
    "cd /notebook/notebook/cpp_intro/solution3\n",
    "./answer3"
   ]
  },
  {
   "cell_type": "code",
   "execution_count": null,
   "id": "1f178ecd-bb8a-455e-b47a-d8badf1dfcd3",
   "metadata": {},
   "outputs": [],
   "source": []
  }
 ],
 "metadata": {
  "kernelspec": {
   "display_name": "Python 3 (ipykernel)",
   "language": "python",
   "name": "python3"
  },
  "language_info": {
   "codemirror_mode": {
    "name": "ipython",
    "version": 3
   },
   "file_extension": ".py",
   "mimetype": "text/x-python",
   "name": "python",
   "nbconvert_exporter": "python",
   "pygments_lexer": "ipython3",
   "version": "3.10.13"
  }
 },
 "nbformat": 4,
 "nbformat_minor": 5
}
